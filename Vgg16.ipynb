{
 "cells": [
  {
   "cell_type": "code",
   "execution_count": 1,
   "metadata": {},
   "outputs": [],
   "source": [
    "from keras.preprocessing.image import ImageDataGenerator\n",
    "import matplotlib.pyplot as plt"
   ]
  },
  {
   "cell_type": "code",
   "execution_count": 2,
   "metadata": {},
   "outputs": [],
   "source": [
    "import tensorflow as tf"
   ]
  },
  {
   "cell_type": "code",
   "execution_count": 3,
   "metadata": {},
   "outputs": [
    {
     "name": "stdout",
     "output_type": "stream",
     "text": [
      "Found 60 images belonging to 2 classes.\n"
     ]
    }
   ],
   "source": [
    "train_datagen = ImageDataGenerator(rescale=1./255,\n",
    "                                      shear_range=0.2, \n",
    "                                        zoom_range=0.2,\n",
    "                                        horizontal_flip=True)\n",
    "x_train = train_datagen.flow_from_directory(\n",
    "        'dataset/train',\n",
    "        target_size = (32,32),\n",
    "        # color_mode=\"grayscale\",\n",
    "        batch_size=4,\n",
    "        class_mode='binary'\n",
    "        )"
   ]
  },
  {
   "cell_type": "code",
   "execution_count": 4,
   "metadata": {},
   "outputs": [
    {
     "name": "stdout",
     "output_type": "stream",
     "text": [
      "Found 60 images belonging to 2 classes.\n"
     ]
    }
   ],
   "source": [
    "test_datagen = ImageDataGenerator(rescale=1./255)\n",
    "x_test = test_datagen.flow_from_directory(\n",
    "        'dataset/test',\n",
    "        target_size=(32,32),\n",
    "        batch_size=4,\n",
    "        # color_mode=\"grayscale\",\n",
    "        class_mode='binary')"
   ]
  },
  {
   "cell_type": "code",
   "execution_count": 5,
   "metadata": {},
   "outputs": [],
   "source": [
    "vgg = tf.keras.applications.VGG16(\n",
    "    include_top=False,\n",
    "    weights=\"imagenet\",\n",
    "    input_tensor=None,\n",
    "    input_shape=None,\n",
    "    pooling=None,\n",
    "    classes=1,\n",
    "    classifier_activation=\"softmax\",\n",
    ")"
   ]
  },
  {
   "cell_type": "code",
   "execution_count": 6,
   "metadata": {},
   "outputs": [],
   "source": [
    "for layer in vgg.layers:\n",
    "  layer.trainable = False"
   ]
  },
  {
   "cell_type": "code",
   "execution_count": 7,
   "metadata": {},
   "outputs": [
    {
     "name": "stdout",
     "output_type": "stream",
     "text": [
      "Model: \"model\"\n",
      "_________________________________________________________________\n",
      " Layer (type)                Output Shape              Param #   \n",
      "=================================================================\n",
      " input_1 (InputLayer)        [(None, None, None, 3)]   0         \n",
      "                                                                 \n",
      " block1_conv1 (Conv2D)       (None, None, None, 64)    1792      \n",
      "                                                                 \n",
      " block1_conv2 (Conv2D)       (None, None, None, 64)    36928     \n",
      "                                                                 \n",
      " block1_pool (MaxPooling2D)  (None, None, None, 64)    0         \n",
      "                                                                 \n",
      " block2_conv1 (Conv2D)       (None, None, None, 128)   73856     \n",
      "                                                                 \n",
      " block2_conv2 (Conv2D)       (None, None, None, 128)   147584    \n",
      "                                                                 \n",
      " block2_pool (MaxPooling2D)  (None, None, None, 128)   0         \n",
      "                                                                 \n",
      " block3_conv1 (Conv2D)       (None, None, None, 256)   295168    \n",
      "                                                                 \n",
      " block3_conv2 (Conv2D)       (None, None, None, 256)   590080    \n",
      "                                                                 \n",
      " block3_conv3 (Conv2D)       (None, None, None, 256)   590080    \n",
      "                                                                 \n",
      " block3_pool (MaxPooling2D)  (None, None, None, 256)   0         \n",
      "                                                                 \n",
      " block4_conv1 (Conv2D)       (None, None, None, 512)   1180160   \n",
      "                                                                 \n",
      " block4_conv2 (Conv2D)       (None, None, None, 512)   2359808   \n",
      "                                                                 \n",
      " block4_conv3 (Conv2D)       (None, None, None, 512)   2359808   \n",
      "                                                                 \n",
      " block4_pool (MaxPooling2D)  (None, None, None, 512)   0         \n",
      "                                                                 \n",
      " block5_conv1 (Conv2D)       (None, None, None, 512)   2359808   \n",
      "                                                                 \n",
      " block5_conv2 (Conv2D)       (None, None, None, 512)   2359808   \n",
      "                                                                 \n",
      " block5_conv3 (Conv2D)       (None, None, None, 512)   2359808   \n",
      "                                                                 \n",
      " block5_pool (MaxPooling2D)  (None, None, None, 512)   0         \n",
      "                                                                 \n",
      " global_max_pooling2d (Globa  (None, 512)              0         \n",
      " lMaxPooling2D)                                                  \n",
      "                                                                 \n",
      " dense (Dense)               (None, 1)                 513       \n",
      "                                                                 \n",
      "=================================================================\n",
      "Total params: 14,715,201\n",
      "Trainable params: 513\n",
      "Non-trainable params: 14,714,688\n",
      "_________________________________________________________________\n"
     ]
    }
   ],
   "source": [
    "x = tf.keras.layers.GlobalMaxPooling2D()(vgg.output)\n",
    "prediction = tf.keras.layers.Dense(1, activation='sigmoid')(x)\n",
    "\n",
    "# # create a model object\n",
    "model = tf.keras.models.Model(inputs=vgg.input, outputs=prediction)\n",
    "\n",
    "# # view the structure of the model\n",
    "model.summary()\n",
    "\n",
    "# # tell the model what cost and optimization method to use\n",
    "model.compile(\n",
    "  loss='binary_crossentropy',\n",
    "  optimizer='adam',\n",
    "  metrics=['accuracy']\n",
    ")\n"
   ]
  },
  {
   "cell_type": "code",
   "execution_count": 8,
   "metadata": {},
   "outputs": [
    {
     "name": "stdout",
     "output_type": "stream",
     "text": [
      "Epoch 1/35\n",
      "15/15 [==============================] - 3s 115ms/step - loss: 0.7839 - accuracy: 0.5000 - val_loss: 0.7041 - val_accuracy: 0.5000\n",
      "Epoch 2/35\n",
      "15/15 [==============================] - 2s 99ms/step - loss: 0.7212 - accuracy: 0.5000 - val_loss: 0.6746 - val_accuracy: 0.5333\n",
      "Epoch 3/35\n",
      "15/15 [==============================] - 2s 103ms/step - loss: 0.7071 - accuracy: 0.4333 - val_loss: 0.6702 - val_accuracy: 0.7000\n",
      "Epoch 4/35\n",
      "15/15 [==============================] - 2s 106ms/step - loss: 0.7028 - accuracy: 0.4333 - val_loss: 0.6742 - val_accuracy: 0.6000\n",
      "Epoch 5/35\n",
      "15/15 [==============================] - 1s 98ms/step - loss: 0.6833 - accuracy: 0.5667 - val_loss: 0.6772 - val_accuracy: 0.6167\n",
      "Epoch 6/35\n",
      "15/15 [==============================] - 1s 97ms/step - loss: 0.6890 - accuracy: 0.5500 - val_loss: 0.6860 - val_accuracy: 0.5667\n",
      "Epoch 7/35\n",
      "15/15 [==============================] - 1s 96ms/step - loss: 0.6874 - accuracy: 0.4833 - val_loss: 0.6905 - val_accuracy: 0.5333\n",
      "Epoch 8/35\n",
      "15/15 [==============================] - 1s 98ms/step - loss: 0.6800 - accuracy: 0.6167 - val_loss: 0.6863 - val_accuracy: 0.5167\n",
      "Epoch 9/35\n",
      "15/15 [==============================] - 1s 99ms/step - loss: 0.6861 - accuracy: 0.4833 - val_loss: 0.6929 - val_accuracy: 0.5333\n",
      "Epoch 10/35\n",
      "15/15 [==============================] - 1s 100ms/step - loss: 0.6661 - accuracy: 0.5833 - val_loss: 0.6927 - val_accuracy: 0.5167\n",
      "Epoch 11/35\n",
      "15/15 [==============================] - 2s 123ms/step - loss: 0.6536 - accuracy: 0.6667 - val_loss: 0.6961 - val_accuracy: 0.4833\n",
      "Epoch 12/35\n",
      "15/15 [==============================] - 1s 96ms/step - loss: 0.6483 - accuracy: 0.6667 - val_loss: 0.7003 - val_accuracy: 0.5167\n",
      "Epoch 13/35\n",
      "15/15 [==============================] - 1s 101ms/step - loss: 0.6533 - accuracy: 0.6333 - val_loss: 0.7051 - val_accuracy: 0.5167\n",
      "Epoch 14/35\n",
      "15/15 [==============================] - 2s 104ms/step - loss: 0.6418 - accuracy: 0.7333 - val_loss: 0.7063 - val_accuracy: 0.5333\n",
      "Epoch 15/35\n",
      "15/15 [==============================] - 1s 94ms/step - loss: 0.6316 - accuracy: 0.7000 - val_loss: 0.7122 - val_accuracy: 0.5333\n",
      "Epoch 16/35\n",
      "15/15 [==============================] - 1s 95ms/step - loss: 0.6241 - accuracy: 0.7000 - val_loss: 0.7156 - val_accuracy: 0.4833\n",
      "Epoch 17/35\n",
      "15/15 [==============================] - 1s 93ms/step - loss: 0.6306 - accuracy: 0.6667 - val_loss: 0.7206 - val_accuracy: 0.4833\n",
      "Epoch 18/35\n",
      "15/15 [==============================] - 1s 93ms/step - loss: 0.6321 - accuracy: 0.6333 - val_loss: 0.7264 - val_accuracy: 0.5167\n",
      "Epoch 19/35\n",
      "15/15 [==============================] - 1s 89ms/step - loss: 0.6379 - accuracy: 0.7167 - val_loss: 0.7270 - val_accuracy: 0.4167\n",
      "Epoch 20/35\n",
      "15/15 [==============================] - 1s 86ms/step - loss: 0.6422 - accuracy: 0.6167 - val_loss: 0.7311 - val_accuracy: 0.4833\n",
      "Epoch 21/35\n",
      "15/15 [==============================] - 1s 91ms/step - loss: 0.6086 - accuracy: 0.7333 - val_loss: 0.7337 - val_accuracy: 0.5000\n",
      "Epoch 22/35\n",
      "15/15 [==============================] - 1s 98ms/step - loss: 0.6116 - accuracy: 0.7333 - val_loss: 0.7365 - val_accuracy: 0.5000\n",
      "Epoch 23/35\n",
      "15/15 [==============================] - 1s 96ms/step - loss: 0.6105 - accuracy: 0.7167 - val_loss: 0.7416 - val_accuracy: 0.5000\n",
      "Epoch 24/35\n",
      "15/15 [==============================] - 1s 93ms/step - loss: 0.6048 - accuracy: 0.7333 - val_loss: 0.7455 - val_accuracy: 0.5000\n",
      "Epoch 25/35\n",
      "15/15 [==============================] - 1s 96ms/step - loss: 0.6127 - accuracy: 0.7500 - val_loss: 0.7438 - val_accuracy: 0.5000\n",
      "Epoch 26/35\n",
      "15/15 [==============================] - 1s 95ms/step - loss: 0.6089 - accuracy: 0.7167 - val_loss: 0.7450 - val_accuracy: 0.5000\n",
      "Epoch 27/35\n",
      "15/15 [==============================] - 1s 91ms/step - loss: 0.6009 - accuracy: 0.6833 - val_loss: 0.7482 - val_accuracy: 0.5000\n",
      "Epoch 28/35\n",
      "15/15 [==============================] - 1s 92ms/step - loss: 0.5938 - accuracy: 0.7500 - val_loss: 0.7497 - val_accuracy: 0.4833\n",
      "Epoch 29/35\n",
      "15/15 [==============================] - 1s 93ms/step - loss: 0.5847 - accuracy: 0.7333 - val_loss: 0.7512 - val_accuracy: 0.5000\n",
      "Epoch 30/35\n",
      "15/15 [==============================] - 2s 116ms/step - loss: 0.5725 - accuracy: 0.6667 - val_loss: 0.7532 - val_accuracy: 0.4833\n",
      "Epoch 31/35\n",
      "15/15 [==============================] - 2s 104ms/step - loss: 0.5922 - accuracy: 0.6667 - val_loss: 0.7573 - val_accuracy: 0.5000\n",
      "Epoch 32/35\n",
      "15/15 [==============================] - 2s 102ms/step - loss: 0.5891 - accuracy: 0.7833 - val_loss: 0.7588 - val_accuracy: 0.5000\n",
      "Epoch 33/35\n",
      "15/15 [==============================] - 2s 105ms/step - loss: 0.6034 - accuracy: 0.7167 - val_loss: 0.7608 - val_accuracy: 0.5000\n",
      "Epoch 34/35\n",
      "15/15 [==============================] - 1s 101ms/step - loss: 0.6038 - accuracy: 0.6500 - val_loss: 0.7618 - val_accuracy: 0.4833\n",
      "Epoch 35/35\n",
      "15/15 [==============================] - 1s 97ms/step - loss: 0.5864 - accuracy: 0.7000 - val_loss: 0.7641 - val_accuracy: 0.4833\n"
     ]
    }
   ],
   "source": [
    "history = model.fit(\n",
    "  x_train,\n",
    "  validation_data=x_test,\n",
    "  epochs=35,\n",
    ")"
   ]
  },
  {
   "cell_type": "code",
   "execution_count": 9,
   "metadata": {},
   "outputs": [
    {
     "data": {
      "image/png": "[encoded data removed]",
      "text/plain": [
       "<Figure size 432x288 with 1 Axes>"
      ]
     },
     "metadata": {
      "needs_background": "light"
     },
     "output_type": "display_data"
    }
   ],
   "source": [
    "loss_train = history.history['loss']\n",
    "loss_val = history.history['val_loss']\n",
    "epochs = range(1,36)\n",
    "plt.plot(epochs, loss_train, 'g', label='Training loss')\n",
    "plt.plot(epochs, loss_val, 'b', label='validation loss')\n",
    "plt.title('Training and Validation loss')\n",
    "plt.xlabel('Epochs')\n",
    "plt.ylabel('Loss')\n",
    "plt.legend()\n",
    "plt.show()"
   ]
  },
  {
   "cell_type": "code",
   "execution_count": 10,
   "metadata": {},
   "outputs": [
    {
     "data": {
      "image/png": "[encoded data removed]",
      "text/plain": [
       "<Figure size 432x288 with 1 Axes>"
      ]
     },
     "metadata": {
      "needs_background": "light"
     },
     "output_type": "display_data"
    }
   ],
   "source": [
    "loss_train = history.history['accuracy']\n",
    "loss_val = history.history['val_accuracy']\n",
    "epochs = range(1,36)\n",
    "plt.plot(epochs, loss_train, 'g', label='Accuracy')\n",
    "plt.plot(epochs, loss_val, 'b', label='validation accuracy')\n",
    "plt.title('Accuracy and Validation accuracy')\n",
    "plt.xlabel('Epochs')\n",
    "plt.ylabel('Accuracy')\n",
    "plt.legend()\n",
    "plt.show()"
   ]
  }
 ],
 "metadata": {
  "interpreter": {
   "hash": "b13cae039e46398518c78f273f664ab59a0396b5c4cd01c50b884350ed5f7e8a"
  },
  "kernelspec": {
   "display_name": "Python 3.9.7 ('base')",
   "language": "python",
   "name": "python3"
  },
  "language_info": {
   "codemirror_mode": {
    "name": "ipython",
    "version": 3
   },
   "file_extension": ".py",
   "mimetype": "text/x-python",
   "name": "python",
   "nbconvert_exporter": "python",
   "pygments_lexer": "ipython3",
   "version": "3.9.7"
  },
  "orig_nbformat": 4
 },
 "nbformat": 4,
 "nbformat_minor": 2
}
